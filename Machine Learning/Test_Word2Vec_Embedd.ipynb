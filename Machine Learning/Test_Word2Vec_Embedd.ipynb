{
  "cells": [
    {
      "cell_type": "code",
      "execution_count": 3,
      "metadata": {
        "id": "BPh9emQj34NS"
      },
      "outputs": [],
      "source": [
        "import tensorflow as tf\n",
        "import numpy as np\n",
        "import pandas as pd\n",
        "import matplotlib.pyplot as plt\n",
        "import gensim.downloader as api"
      ]
    },
    {
      "cell_type": "code",
      "execution_count": 4,
      "metadata": {
        "id": "3tIBgMDnP_sy"
      },
      "outputs": [],
      "source": [
        "Tokenizer = tf.keras.preprocessing.text.Tokenizer\n",
        "pad_sequences = tf.keras.preprocessing.sequence.pad_sequences\n",
        "layers = tf.keras.layers\n",
        "models = tf.keras.models\n",
        "optimizers = tf.keras.optimizers\n",
        "EarlyStopping = tf.keras.callbacks.EarlyStopping"
      ]
    },
    {
      "cell_type": "code",
      "execution_count": 5,
      "metadata": {
        "colab": {
          "base_uri": "https://localhost:8080/"
        },
        "id": "HqzVlOEZt9hM",
        "outputId": "fb8b4cc6-d78d-424e-f901-73a998d6d92f"
      },
      "outputs": [
        {
          "output_type": "stream",
          "name": "stdout",
          "text": [
            "[==================================================] 100.0% 1662.8/1662.8MB downloaded\n"
          ]
        }
      ],
      "source": [
        "wv = api.load('word2vec-google-news-300')"
      ]
    },
    {
      "cell_type": "code",
      "execution_count": 6,
      "metadata": {
        "id": "69rLJibC47Wl"
      },
      "outputs": [],
      "source": [
        "# !wget http://nlp.stanford.edu/data/glove.6B.zip\n",
        "# !unzip glove.6B.zip"
      ]
    },
    {
      "cell_type": "code",
      "execution_count": 20,
      "metadata": {
        "id": "6uU6TFNr34NU"
      },
      "outputs": [],
      "source": [
        "vocab_size = 1000\n",
        "embedding_dim = 16\n",
        "max_length = 120\n",
        "trunc_type='post'\n",
        "padding_type='post'\n",
        "oov_tok = \"<OOV>\"\n",
        "training_portion = .8"
      ]
    },
    {
      "cell_type": "code",
      "execution_count": 21,
      "metadata": {
        "id": "StVKtf7C34NU"
      },
      "outputs": [],
      "source": [
        "data = pd.read_csv('data (1).csv')\n",
        "sentences = data['text'].str.lower().tolist()\n",
        "labels = data['label'].tolist()\n",
        "stopword = [\n",
        "    \"yang\", \"dan\", \"di\", \"ke\", \"dari\", \"untuk\", \"dengan\", \"pada\", \"adalah\",\n",
        "    \"ini\", \"itu\", \"saya\", \"kita\", \"anda\", \"akan\", \"telah\", \"sebagai\", \"atau\",\n",
        "    \"jadi\", \"karena\", \"tidak\", \"dalam\", \"lebih\", \"lagi\", \"hanya\", \"sudah\", \"juga\"\n",
        "]"
      ]
    },
    {
      "cell_type": "code",
      "execution_count": 22,
      "metadata": {
        "id": "wdgkZDIl34NU"
      },
      "outputs": [],
      "source": [
        "processed_sentences = []\n",
        "for sentence in sentences:\n",
        "    for word in stopword:\n",
        "        sentence = sentence.replace(f\" {word} \", \" \")  # Remove stopwords\n",
        "    processed_sentences.append(sentence.strip())"
      ]
    },
    {
      "cell_type": "code",
      "execution_count": 23,
      "metadata": {
        "id": "kSTeBnKZ34NV"
      },
      "outputs": [],
      "source": [
        "train_size = int(len(processed_sentences) * 0.8)\n",
        "\n",
        "train_sentences = processed_sentences[:train_size]\n",
        "train_labels = labels[:train_size]\n",
        "\n",
        "validation_sentences =processed_sentences[train_size:]\n",
        "validation_labels = labels[train_size:]"
      ]
    },
    {
      "cell_type": "code",
      "execution_count": 24,
      "metadata": {
        "id": "pI6fQ9xD34NV"
      },
      "outputs": [],
      "source": [
        "tokenizer = Tokenizer(num_words = vocab_size, oov_token=oov_tok)\n",
        "tokenizer.fit_on_texts(train_sentences)\n",
        "word_index = tokenizer.word_index\n",
        "\n",
        "train_sequences = tokenizer.texts_to_sequences(train_sentences)\n",
        "train_padded = pad_sequences(train_sequences, padding=padding_type, maxlen=max_length)\n",
        "\n",
        "validation_sequences = tokenizer.texts_to_sequences(validation_sentences)\n",
        "validation_padded = pad_sequences(validation_sequences, padding=padding_type, maxlen=max_length)"
      ]
    },
    {
      "cell_type": "code",
      "execution_count": 25,
      "metadata": {
        "id": "IcSPDsWw34NV"
      },
      "outputs": [],
      "source": [
        "training_label_seq = np.array(train_labels)\n",
        "validation_label_seq = np.array(validation_labels)"
      ]
    },
    {
      "cell_type": "code",
      "execution_count": 27,
      "metadata": {
        "id": "Mu8ppExd4HXV"
      },
      "outputs": [],
      "source": [
        "# glove_file = 'glove.6B.100d.txt'\n",
        "# embeddings_index = {}\n",
        "# with open(glove_file, 'r', encoding='utf-8') as f:\n",
        "#   for line in f:\n",
        "#     values = line.split()\n",
        "#     word = values[0]\n",
        "#     coefs = np.asarray(values[1:], dtype='float32')\n",
        "#     embeddings_index[word] = coefs"
      ]
    },
    {
      "cell_type": "code",
      "execution_count": 28,
      "metadata": {
        "id": "OTLZZpsc4Ycz"
      },
      "outputs": [],
      "source": [
        "# embedding_matrix = np.zeros((vocab_size, embedding_dim))\n",
        "# for word, i in word_index.items():\n",
        "#     if i < vocab_size:\n",
        "#         embedding_vector = embeddings_index.get(word)\n",
        "#         if embedding_vector is not None:\n",
        "#             embedding_matrix[i] = embedding_vector"
      ]
    },
    {
      "cell_type": "code",
      "execution_count": 29,
      "metadata": {
        "id": "DG6mZpxQjK0s"
      },
      "outputs": [],
      "source": [
        "from gensim.models import Word2Vec\n",
        "sentences = [sentence.split() for sentence in train_sentences] # Tokenisasi data Anda\n",
        "model_word2vec = Word2Vec(sentences, vector_size=embedding_dim, window=5, min_count=5, workers=4)"
      ]
    },
    {
      "cell_type": "code",
      "execution_count": 30,
      "metadata": {
        "id": "wEz9D0wEjpwH"
      },
      "outputs": [],
      "source": [
        "embedding_matrix = np.zeros((vocab_size, embedding_dim))\n",
        "for word, i in word_index.items():\n",
        "    if i < vocab_size:\n",
        "        try:\n",
        "            embedding_vector = model_word2vec.wv[word]  # Get embedding from Word2Vec\n",
        "            embedding_matrix[i] = embedding_vector\n",
        "        except KeyError:\n",
        "            pass  # Words not found in Word2Vec will have zero vectors"
      ]
    },
    {
      "cell_type": "code",
      "execution_count": 36,
      "metadata": {
        "colab": {
          "base_uri": "https://localhost:8080/",
          "height": 327
        },
        "id": "c5ByWotc34NW",
        "outputId": "90414384-93cd-4fd7-d50f-d4300636a446"
      },
      "outputs": [
        {
          "output_type": "display_data",
          "data": {
            "text/plain": [
              "\u001b[1mModel: \"sequential_3\"\u001b[0m\n"
            ],
            "text/html": [
              "<pre style=\"white-space:pre;overflow-x:auto;line-height:normal;font-family:Menlo,'DejaVu Sans Mono',consolas,'Courier New',monospace\"><span style=\"font-weight: bold\">Model: \"sequential_3\"</span>\n",
              "</pre>\n"
            ]
          },
          "metadata": {}
        },
        {
          "output_type": "display_data",
          "data": {
            "text/plain": [
              "┏━━━━━━━━━━━━━━━━━━━━━━━━━━━━━━━━━━━━━━┳━━━━━━━━━━━━━━━━━━━━━━━━━━━━━┳━━━━━━━━━━━━━━━━━┓\n",
              "┃\u001b[1m \u001b[0m\u001b[1mLayer (type)                        \u001b[0m\u001b[1m \u001b[0m┃\u001b[1m \u001b[0m\u001b[1mOutput Shape               \u001b[0m\u001b[1m \u001b[0m┃\u001b[1m \u001b[0m\u001b[1m        Param #\u001b[0m\u001b[1m \u001b[0m┃\n",
              "┡━━━━━━━━━━━━━━━━━━━━━━━━━━━━━━━━━━━━━━╇━━━━━━━━━━━━━━━━━━━━━━━━━━━━━╇━━━━━━━━━━━━━━━━━┩\n",
              "│ embedding_3 (\u001b[38;5;33mEmbedding\u001b[0m)              │ (\u001b[38;5;45mNone\u001b[0m, \u001b[38;5;34m120\u001b[0m, \u001b[38;5;34m16\u001b[0m)             │          \u001b[38;5;34m16,000\u001b[0m │\n",
              "├──────────────────────────────────────┼─────────────────────────────┼─────────────────┤\n",
              "│ bidirectional_6 (\u001b[38;5;33mBidirectional\u001b[0m)      │ (\u001b[38;5;45mNone\u001b[0m, \u001b[38;5;34m120\u001b[0m, \u001b[38;5;34m128\u001b[0m)            │          \u001b[38;5;34m41,472\u001b[0m │\n",
              "├──────────────────────────────────────┼─────────────────────────────┼─────────────────┤\n",
              "│ bidirectional_7 (\u001b[38;5;33mBidirectional\u001b[0m)      │ (\u001b[38;5;45mNone\u001b[0m, \u001b[38;5;34m256\u001b[0m)                 │         \u001b[38;5;34m263,168\u001b[0m │\n",
              "├──────────────────────────────────────┼─────────────────────────────┼─────────────────┤\n",
              "│ dense_7 (\u001b[38;5;33mDense\u001b[0m)                      │ (\u001b[38;5;45mNone\u001b[0m, \u001b[38;5;34m256\u001b[0m)                 │          \u001b[38;5;34m65,792\u001b[0m │\n",
              "├──────────────────────────────────────┼─────────────────────────────┼─────────────────┤\n",
              "│ dense_8 (\u001b[38;5;33mDense\u001b[0m)                      │ (\u001b[38;5;45mNone\u001b[0m, \u001b[38;5;34m128\u001b[0m)                 │          \u001b[38;5;34m32,896\u001b[0m │\n",
              "├──────────────────────────────────────┼─────────────────────────────┼─────────────────┤\n",
              "│ dense_9 (\u001b[38;5;33mDense\u001b[0m)                      │ (\u001b[38;5;45mNone\u001b[0m, \u001b[38;5;34m8\u001b[0m)                   │           \u001b[38;5;34m1,032\u001b[0m │\n",
              "└──────────────────────────────────────┴─────────────────────────────┴─────────────────┘\n"
            ],
            "text/html": [
              "<pre style=\"white-space:pre;overflow-x:auto;line-height:normal;font-family:Menlo,'DejaVu Sans Mono',consolas,'Courier New',monospace\">┏━━━━━━━━━━━━━━━━━━━━━━━━━━━━━━━━━━━━━━┳━━━━━━━━━━━━━━━━━━━━━━━━━━━━━┳━━━━━━━━━━━━━━━━━┓\n",
              "┃<span style=\"font-weight: bold\"> Layer (type)                         </span>┃<span style=\"font-weight: bold\"> Output Shape                </span>┃<span style=\"font-weight: bold\">         Param # </span>┃\n",
              "┡━━━━━━━━━━━━━━━━━━━━━━━━━━━━━━━━━━━━━━╇━━━━━━━━━━━━━━━━━━━━━━━━━━━━━╇━━━━━━━━━━━━━━━━━┩\n",
              "│ embedding_3 (<span style=\"color: #0087ff; text-decoration-color: #0087ff\">Embedding</span>)              │ (<span style=\"color: #00d7ff; text-decoration-color: #00d7ff\">None</span>, <span style=\"color: #00af00; text-decoration-color: #00af00\">120</span>, <span style=\"color: #00af00; text-decoration-color: #00af00\">16</span>)             │          <span style=\"color: #00af00; text-decoration-color: #00af00\">16,000</span> │\n",
              "├──────────────────────────────────────┼─────────────────────────────┼─────────────────┤\n",
              "│ bidirectional_6 (<span style=\"color: #0087ff; text-decoration-color: #0087ff\">Bidirectional</span>)      │ (<span style=\"color: #00d7ff; text-decoration-color: #00d7ff\">None</span>, <span style=\"color: #00af00; text-decoration-color: #00af00\">120</span>, <span style=\"color: #00af00; text-decoration-color: #00af00\">128</span>)            │          <span style=\"color: #00af00; text-decoration-color: #00af00\">41,472</span> │\n",
              "├──────────────────────────────────────┼─────────────────────────────┼─────────────────┤\n",
              "│ bidirectional_7 (<span style=\"color: #0087ff; text-decoration-color: #0087ff\">Bidirectional</span>)      │ (<span style=\"color: #00d7ff; text-decoration-color: #00d7ff\">None</span>, <span style=\"color: #00af00; text-decoration-color: #00af00\">256</span>)                 │         <span style=\"color: #00af00; text-decoration-color: #00af00\">263,168</span> │\n",
              "├──────────────────────────────────────┼─────────────────────────────┼─────────────────┤\n",
              "│ dense_7 (<span style=\"color: #0087ff; text-decoration-color: #0087ff\">Dense</span>)                      │ (<span style=\"color: #00d7ff; text-decoration-color: #00d7ff\">None</span>, <span style=\"color: #00af00; text-decoration-color: #00af00\">256</span>)                 │          <span style=\"color: #00af00; text-decoration-color: #00af00\">65,792</span> │\n",
              "├──────────────────────────────────────┼─────────────────────────────┼─────────────────┤\n",
              "│ dense_8 (<span style=\"color: #0087ff; text-decoration-color: #0087ff\">Dense</span>)                      │ (<span style=\"color: #00d7ff; text-decoration-color: #00d7ff\">None</span>, <span style=\"color: #00af00; text-decoration-color: #00af00\">128</span>)                 │          <span style=\"color: #00af00; text-decoration-color: #00af00\">32,896</span> │\n",
              "├──────────────────────────────────────┼─────────────────────────────┼─────────────────┤\n",
              "│ dense_9 (<span style=\"color: #0087ff; text-decoration-color: #0087ff\">Dense</span>)                      │ (<span style=\"color: #00d7ff; text-decoration-color: #00d7ff\">None</span>, <span style=\"color: #00af00; text-decoration-color: #00af00\">8</span>)                   │           <span style=\"color: #00af00; text-decoration-color: #00af00\">1,032</span> │\n",
              "└──────────────────────────────────────┴─────────────────────────────┴─────────────────┘\n",
              "</pre>\n"
            ]
          },
          "metadata": {}
        },
        {
          "output_type": "display_data",
          "data": {
            "text/plain": [
              "\u001b[1m Total params: \u001b[0m\u001b[38;5;34m420,360\u001b[0m (1.60 MB)\n"
            ],
            "text/html": [
              "<pre style=\"white-space:pre;overflow-x:auto;line-height:normal;font-family:Menlo,'DejaVu Sans Mono',consolas,'Courier New',monospace\"><span style=\"font-weight: bold\"> Total params: </span><span style=\"color: #00af00; text-decoration-color: #00af00\">420,360</span> (1.60 MB)\n",
              "</pre>\n"
            ]
          },
          "metadata": {}
        },
        {
          "output_type": "display_data",
          "data": {
            "text/plain": [
              "\u001b[1m Trainable params: \u001b[0m\u001b[38;5;34m404,360\u001b[0m (1.54 MB)\n"
            ],
            "text/html": [
              "<pre style=\"white-space:pre;overflow-x:auto;line-height:normal;font-family:Menlo,'DejaVu Sans Mono',consolas,'Courier New',monospace\"><span style=\"font-weight: bold\"> Trainable params: </span><span style=\"color: #00af00; text-decoration-color: #00af00\">404,360</span> (1.54 MB)\n",
              "</pre>\n"
            ]
          },
          "metadata": {}
        },
        {
          "output_type": "display_data",
          "data": {
            "text/plain": [
              "\u001b[1m Non-trainable params: \u001b[0m\u001b[38;5;34m16,000\u001b[0m (62.50 KB)\n"
            ],
            "text/html": [
              "<pre style=\"white-space:pre;overflow-x:auto;line-height:normal;font-family:Menlo,'DejaVu Sans Mono',consolas,'Courier New',monospace\"><span style=\"font-weight: bold\"> Non-trainable params: </span><span style=\"color: #00af00; text-decoration-color: #00af00\">16,000</span> (62.50 KB)\n",
              "</pre>\n"
            ]
          },
          "metadata": {}
        }
      ],
      "source": [
        "model = models.Sequential([\n",
        "    layers.Input(shape=(max_length,)),\n",
        "    layers.Embedding(vocab_size, embedding_dim, weights=[embedding_matrix], trainable=False),\n",
        "    layers.Bidirectional(tf.keras.layers.LSTM(64, return_sequences=True)),\n",
        "    layers.Bidirectional(tf.keras.layers.LSTM(128)),\n",
        "    layers.Dense(256, activation='relu'),\n",
        "    layers.Dense(128, activation='relu'),\n",
        "    layers.Dense(8, activation='softmax')\n",
        "    ])\n",
        "\n",
        "model.summary()"
      ]
    },
    {
      "cell_type": "code",
      "execution_count": 37,
      "metadata": {
        "id": "7Ve_1jBb34NW"
      },
      "outputs": [],
      "source": [
        "model.compile(loss=tf.keras.losses.SparseCategoricalCrossentropy(),\n",
        "                optimizer=optimizers.Adam(),\n",
        "                metrics=['accuracy'])"
      ]
    },
    {
      "cell_type": "code",
      "execution_count": 38,
      "metadata": {
        "id": "cIkbXIRS34NW"
      },
      "outputs": [],
      "source": [
        "early_stop = EarlyStopping(monitor='val_accuracy',\n",
        "                            verbose=1,\n",
        "                            patience=5,\n",
        "                            restore_best_weights=True,\n",
        "                            min_delta=0.01,\n",
        "                            mode='max',  # 'max' will stop when accuracy reaches a maximum\n",
        "                            baseline=0.94)"
      ]
    },
    {
      "cell_type": "code",
      "execution_count": 39,
      "metadata": {
        "colab": {
          "base_uri": "https://localhost:8080/"
        },
        "id": "pFg-uuCi34NW",
        "outputId": "1b7c7ba7-b1b4-4e9b-872c-39b483b09cbd"
      },
      "outputs": [
        {
          "output_type": "stream",
          "name": "stdout",
          "text": [
            "Epoch 1/30\n",
            "\u001b[1m100/100\u001b[0m \u001b[32m━━━━━━━━━━━━━━━━━━━━\u001b[0m\u001b[37m\u001b[0m \u001b[1m58s\u001b[0m 531ms/step - accuracy: 0.1688 - loss: 2.0209 - val_accuracy: 0.3613 - val_loss: 1.5773\n",
            "Epoch 2/30\n",
            "\u001b[1m100/100\u001b[0m \u001b[32m━━━━━━━━━━━━━━━━━━━━\u001b[0m\u001b[37m\u001b[0m \u001b[1m80s\u001b[0m 513ms/step - accuracy: 0.4359 - loss: 1.4237 - val_accuracy: 0.5225 - val_loss: 1.2035\n",
            "Epoch 3/30\n",
            "\u001b[1m100/100\u001b[0m \u001b[32m━━━━━━━━━━━━━━━━━━━━\u001b[0m\u001b[37m\u001b[0m \u001b[1m82s\u001b[0m 516ms/step - accuracy: 0.5001 - loss: 1.2475 - val_accuracy: 0.5875 - val_loss: 1.0752\n",
            "Epoch 4/30\n",
            "\u001b[1m100/100\u001b[0m \u001b[32m━━━━━━━━━━━━━━━━━━━━\u001b[0m\u001b[37m\u001b[0m \u001b[1m84s\u001b[0m 532ms/step - accuracy: 0.5982 - loss: 1.0324 - val_accuracy: 0.6325 - val_loss: 0.9347\n",
            "Epoch 5/30\n",
            "\u001b[1m100/100\u001b[0m \u001b[32m━━━━━━━━━━━━━━━━━━━━\u001b[0m\u001b[37m\u001b[0m \u001b[1m80s\u001b[0m 512ms/step - accuracy: 0.6779 - loss: 0.8905 - val_accuracy: 0.7075 - val_loss: 0.8313\n",
            "Epoch 6/30\n",
            "\u001b[1m100/100\u001b[0m \u001b[32m━━━━━━━━━━━━━━━━━━━━\u001b[0m\u001b[37m\u001b[0m \u001b[1m49s\u001b[0m 495ms/step - accuracy: 0.6765 - loss: 0.9002 - val_accuracy: 0.7575 - val_loss: 0.6808\n",
            "Epoch 7/30\n",
            "\u001b[1m100/100\u001b[0m \u001b[32m━━━━━━━━━━━━━━━━━━━━\u001b[0m\u001b[37m\u001b[0m \u001b[1m86s\u001b[0m 538ms/step - accuracy: 0.7542 - loss: 0.7090 - val_accuracy: 0.7513 - val_loss: 0.6910\n",
            "Epoch 8/30\n",
            "\u001b[1m100/100\u001b[0m \u001b[32m━━━━━━━━━━━━━━━━━━━━\u001b[0m\u001b[37m\u001b[0m \u001b[1m51s\u001b[0m 516ms/step - accuracy: 0.7248 - loss: 0.7418 - val_accuracy: 0.7550 - val_loss: 0.6719\n",
            "Epoch 9/30\n",
            "\u001b[1m100/100\u001b[0m \u001b[32m━━━━━━━━━━━━━━━━━━━━\u001b[0m\u001b[37m\u001b[0m \u001b[1m80s\u001b[0m 493ms/step - accuracy: 0.7779 - loss: 0.6304 - val_accuracy: 0.7538 - val_loss: 0.7022\n",
            "Epoch 10/30\n",
            "\u001b[1m100/100\u001b[0m \u001b[32m━━━━━━━━━━━━━━━━━━━━\u001b[0m\u001b[37m\u001b[0m \u001b[1m83s\u001b[0m 505ms/step - accuracy: 0.7897 - loss: 0.5625 - val_accuracy: 0.7900 - val_loss: 0.6362\n",
            "Epoch 11/30\n",
            "\u001b[1m100/100\u001b[0m \u001b[32m━━━━━━━━━━━━━━━━━━━━\u001b[0m\u001b[37m\u001b[0m \u001b[1m85s\u001b[0m 535ms/step - accuracy: 0.7890 - loss: 0.6137 - val_accuracy: 0.8100 - val_loss: 0.5544\n",
            "Epoch 12/30\n",
            "\u001b[1m100/100\u001b[0m \u001b[32m━━━━━━━━━━━━━━━━━━━━\u001b[0m\u001b[37m\u001b[0m \u001b[1m79s\u001b[0m 505ms/step - accuracy: 0.8190 - loss: 0.5035 - val_accuracy: 0.8138 - val_loss: 0.5253\n",
            "Epoch 13/30\n",
            "\u001b[1m100/100\u001b[0m \u001b[32m━━━━━━━━━━━━━━━━━━━━\u001b[0m\u001b[37m\u001b[0m \u001b[1m83s\u001b[0m 519ms/step - accuracy: 0.8173 - loss: 0.5027 - val_accuracy: 0.8288 - val_loss: 0.5152\n",
            "Epoch 14/30\n",
            "\u001b[1m100/100\u001b[0m \u001b[32m━━━━━━━━━━━━━━━━━━━━\u001b[0m\u001b[37m\u001b[0m \u001b[1m83s\u001b[0m 534ms/step - accuracy: 0.8357 - loss: 0.4631 - val_accuracy: 0.8037 - val_loss: 0.5833\n",
            "Epoch 15/30\n",
            "\u001b[1m100/100\u001b[0m \u001b[32m━━━━━━━━━━━━━━━━━━━━\u001b[0m\u001b[37m\u001b[0m \u001b[1m80s\u001b[0m 517ms/step - accuracy: 0.8260 - loss: 0.4785 - val_accuracy: 0.8512 - val_loss: 0.4500\n",
            "Epoch 16/30\n",
            "\u001b[1m100/100\u001b[0m \u001b[32m━━━━━━━━━━━━━━━━━━━━\u001b[0m\u001b[37m\u001b[0m \u001b[1m81s\u001b[0m 512ms/step - accuracy: 0.8420 - loss: 0.4255 - val_accuracy: 0.8537 - val_loss: 0.4466\n",
            "Epoch 17/30\n",
            "\u001b[1m100/100\u001b[0m \u001b[32m━━━━━━━━━━━━━━━━━━━━\u001b[0m\u001b[37m\u001b[0m \u001b[1m85s\u001b[0m 541ms/step - accuracy: 0.8557 - loss: 0.4115 - val_accuracy: 0.8625 - val_loss: 0.4401\n",
            "Epoch 18/30\n",
            "\u001b[1m100/100\u001b[0m \u001b[32m━━━━━━━━━━━━━━━━━━━━\u001b[0m\u001b[37m\u001b[0m \u001b[1m82s\u001b[0m 541ms/step - accuracy: 0.8648 - loss: 0.4005 - val_accuracy: 0.8612 - val_loss: 0.4390\n",
            "Epoch 19/30\n",
            "\u001b[1m100/100\u001b[0m \u001b[32m━━━━━━━━━━━━━━━━━━━━\u001b[0m\u001b[37m\u001b[0m \u001b[1m80s\u001b[0m 519ms/step - accuracy: 0.8699 - loss: 0.3659 - val_accuracy: 0.8537 - val_loss: 0.4188\n",
            "Epoch 20/30\n",
            "\u001b[1m100/100\u001b[0m \u001b[32m━━━━━━━━━━━━━━━━━━━━\u001b[0m\u001b[37m\u001b[0m \u001b[1m83s\u001b[0m 532ms/step - accuracy: 0.8596 - loss: 0.3969 - val_accuracy: 0.8712 - val_loss: 0.3768\n",
            "Epoch 21/30\n",
            "\u001b[1m100/100\u001b[0m \u001b[32m━━━━━━━━━━━━━━━━━━━━\u001b[0m\u001b[37m\u001b[0m \u001b[1m83s\u001b[0m 540ms/step - accuracy: 0.8759 - loss: 0.3570 - val_accuracy: 0.8725 - val_loss: 0.3787\n",
            "Epoch 22/30\n",
            "\u001b[1m100/100\u001b[0m \u001b[32m━━━━━━━━━━━━━━━━━━━━\u001b[0m\u001b[37m\u001b[0m \u001b[1m50s\u001b[0m 496ms/step - accuracy: 0.8791 - loss: 0.3309 - val_accuracy: 0.8838 - val_loss: 0.3751\n",
            "Epoch 23/30\n",
            "\u001b[1m100/100\u001b[0m \u001b[32m━━━━━━━━━━━━━━━━━━━━\u001b[0m\u001b[37m\u001b[0m \u001b[1m83s\u001b[0m 505ms/step - accuracy: 0.8865 - loss: 0.3249 - val_accuracy: 0.8562 - val_loss: 0.4621\n",
            "Epoch 24/30\n",
            "\u001b[1m100/100\u001b[0m \u001b[32m━━━━━━━━━━━━━━━━━━━━\u001b[0m\u001b[37m\u001b[0m \u001b[1m86s\u001b[0m 542ms/step - accuracy: 0.8854 - loss: 0.3308 - val_accuracy: 0.8350 - val_loss: 0.5461\n",
            "Epoch 25/30\n",
            "\u001b[1m100/100\u001b[0m \u001b[32m━━━━━━━━━━━━━━━━━━━━\u001b[0m\u001b[37m\u001b[0m \u001b[1m55s\u001b[0m 552ms/step - accuracy: 0.8663 - loss: 0.3864 - val_accuracy: 0.8375 - val_loss: 0.4533\n",
            "Epoch 26/30\n",
            "\u001b[1m100/100\u001b[0m \u001b[32m━━━━━━━━━━━━━━━━━━━━\u001b[0m\u001b[37m\u001b[0m \u001b[1m50s\u001b[0m 505ms/step - accuracy: 0.8935 - loss: 0.3142 - val_accuracy: 0.8950 - val_loss: 0.3829\n",
            "Epoch 27/30\n",
            "\u001b[1m100/100\u001b[0m \u001b[32m━━━━━━━━━━━━━━━━━━━━\u001b[0m\u001b[37m\u001b[0m \u001b[1m81s\u001b[0m 500ms/step - accuracy: 0.8883 - loss: 0.3286 - val_accuracy: 0.8813 - val_loss: 0.3765\n",
            "Epoch 28/30\n",
            "\u001b[1m100/100\u001b[0m \u001b[32m━━━━━━━━━━━━━━━━━━━━\u001b[0m\u001b[37m\u001b[0m \u001b[1m86s\u001b[0m 539ms/step - accuracy: 0.9018 - loss: 0.2871 - val_accuracy: 0.8813 - val_loss: 0.3991\n",
            "Epoch 29/30\n",
            "\u001b[1m100/100\u001b[0m \u001b[32m━━━━━━━━━━━━━━━━━━━━\u001b[0m\u001b[37m\u001b[0m \u001b[1m84s\u001b[0m 562ms/step - accuracy: 0.9033 - loss: 0.3045 - val_accuracy: 0.8813 - val_loss: 0.3701\n",
            "Epoch 30/30\n",
            "\u001b[1m100/100\u001b[0m \u001b[32m━━━━━━━━━━━━━━━━━━━━\u001b[0m\u001b[37m\u001b[0m \u001b[1m52s\u001b[0m 523ms/step - accuracy: 0.9235 - loss: 0.2217 - val_accuracy: 0.8788 - val_loss: 0.4072\n"
          ]
        }
      ],
      "source": [
        "history = model.fit(train_padded, training_label_seq,\n",
        "                    epochs=30,\n",
        "                    validation_data=(validation_padded, validation_label_seq),\n",
        "                    #callbacks=[early_stop]\n",
        "                    )"
      ]
    },
    {
      "cell_type": "markdown",
      "source": [],
      "metadata": {
        "id": "qXVCS_UJSKZZ"
      }
    },
    {
      "cell_type": "code",
      "execution_count": 40,
      "metadata": {
        "id": "fF9OC6KQ34NX",
        "colab": {
          "base_uri": "https://localhost:8080/",
          "height": 449
        },
        "outputId": "53eac3aa-e6d2-43fd-b3ad-88b60a55c3e8"
      },
      "outputs": [
        {
          "output_type": "display_data",
          "data": {
            "text/plain": [
              "<Figure size 640x480 with 1 Axes>"
            ],
            "image/png": "[encoded data removed]"
          },
          "metadata": {}
        }
      ],
      "source": [
        "plt.plot(history.history['accuracy'], label='Training Accuracy')\n",
        "plt.plot(history.history['val_accuracy'], label='Validation Accuracy')\n",
        "plt.xlabel('Epoch')\n",
        "plt.ylabel('Accuracy')\n",
        "plt.legend()\n",
        "plt.show()"
      ]
    },
    {
      "cell_type": "code",
      "execution_count": 42,
      "metadata": {
        "colab": {
          "base_uri": "https://localhost:8080/"
        },
        "id": "k6XE9Xivbh3j",
        "outputId": "f40105d8-878b-4b60-da6b-89a71adcc76c"
      },
      "outputs": [
        {
          "output_type": "stream",
          "name": "stdout",
          "text": [
            "input: \n",
            "agus takut saat uang donasi akan ditarik kembali\n",
            "\u001b[1m1/1\u001b[0m \u001b[32m━━━━━━━━━━━━━━━━━━━━\u001b[0m\u001b[37m\u001b[0m \u001b[1m0s\u001b[0m 58ms/step\n",
            "Prediksi emosi: sadness (Confidence: 66.17%)\n",
            "input: \n",
            "agus tidak sabar untuk menikmati uang donasi\n",
            "\u001b[1m1/1\u001b[0m \u001b[32m━━━━━━━━━━━━━━━━━━━━\u001b[0m\u001b[37m\u001b[0m \u001b[1m0s\u001b[0m 50ms/step\n",
            "Prediksi emosi: fear (Confidence: 35.70%)\n",
            "input: \n",
            "agus takut akan dipukuli oleh warga\n",
            "\u001b[1m1/1\u001b[0m \u001b[32m━━━━━━━━━━━━━━━━━━━━\u001b[0m\u001b[37m\u001b[0m \u001b[1m0s\u001b[0m 67ms/step\n",
            "Prediksi emosi: fear (Confidence: 41.12%)\n",
            "input: \n",
            "exit\n",
            "Program selesai.\n"
          ]
        }
      ],
      "source": [
        "emotion_labels = ['anticipation','anger', 'disgust', 'fear', 'joy', 'sadness', 'surprise', 'trust']\n",
        "\n",
        "while True:\n",
        "    user_input = input(\"input: \\n\").lower()\n",
        "    if user_input == \"exit\":\n",
        "        print(\"Program selesai.\")\n",
        "        break\n",
        "\n",
        "    # Hilangkan stopword pada input\n",
        "    for word in stopword:\n",
        "        user_input = user_input.replace(f\" {word} \", \" \")\n",
        "\n",
        "    # Preprocessing input\n",
        "    user_input_sequence = tokenizer.texts_to_sequences([user_input])\n",
        "    user_input_padded = pad_sequences(user_input_sequence, padding=padding_type, maxlen=max_length, truncating=trunc_type)\n",
        "\n",
        "    # Prediksi emosi menggunakan model\n",
        "    prediction = model.predict(user_input_padded)\n",
        "    predicted_label_index = np.argmax(prediction[0])\n",
        "    predicted_emotion = emotion_labels[predicted_label_index]\n",
        "\n",
        "    print(f\"Prediksi emosi: {predicted_emotion} (Confidence: {np.max(prediction) * 100:.2f}%)\")"
      ]
    },
    {
      "cell_type": "code",
      "execution_count": null,
      "metadata": {
        "id": "QlQ07SonVoHc"
      },
      "outputs": [],
      "source": [
        "# def predict_sentiment(text, tokenizer, model, max_length, padding_type, trunc_type):\n",
        "#     # Hilangkan stopword pada input\n",
        "#     for word in stopword:\n",
        "#         text = text.replace(f\" {word} \", \" \")\n",
        "\n",
        "#     # Preprocess the text\n",
        "#     sequence = tokenizer.texts_to_sequences([text])\n",
        "#     padded_sequence = pad_sequences(sequence, maxlen=max_length, padding=padding_type, truncating=trunc_type)\n",
        "\n",
        "#     prediction = model.predict(padded_sequence)\n",
        "#     predicted_label_index = np.argmax(prediction[0]) # Get the index of the highest probability\n",
        "#     sentiment_labels = ['anticipation','anger', 'disgust', 'fear', 'joy', 'sadness', 'surprise', 'trust']\n",
        "#     predicted_sentiment = sentiment_labels[predicted_label_index]\n",
        "\n",
        "#     return predicted_sentiment"
      ]
    },
    {
      "cell_type": "code",
      "execution_count": null,
      "metadata": {
        "colab": {
          "base_uri": "https://localhost:8080/"
        },
        "id": "3RPC7Cpe34NX",
        "outputId": "8f654c8f-2706-40b8-bd23-3baa00ace1fa"
      },
      "outputs": [
        {
          "name": "stdout",
          "output_type": "stream",
          "text": [
            "1/1 [==============================] - 1s 1s/step\n",
            "Predicted sentiment for 'saya percaya dengan teman sd saya': disgust\n"
          ]
        }
      ],
      "source": [
        "# new_text = \"saya percaya dengan teman sd saya\"\n",
        "\n",
        "# predicted_sentiment = predict_sentiment(new_text, tokenizer, model, max_length, padding_type, trunc_type)\n",
        "\n",
        "# print(f\"Predicted sentiment for '{new_text}': {predicted_sentiment}\")"
      ]
    },
    {
      "cell_type": "code",
      "execution_count": null,
      "metadata": {
        "id": "vzOqgEJq34NX"
      },
      "outputs": [],
      "source": []
    }
  ],
  "metadata": {
    "accelerator": "GPU",
    "colab": {
      "gpuType": "T4",
      "provenance": []
    },
    "kernelspec": {
      "display_name": "Python 3",
      "name": "python3"
    },
    "language_info": {
      "codemirror_mode": {
        "name": "ipython",
        "version": 3
      },
      "file_extension": ".py",
      "mimetype": "text/x-python",
      "name": "python",
      "nbconvert_exporter": "python",
      "pygments_lexer": "ipython3",
      "version": "3.11.9"
    }
  },
  "nbformat": 4,
  "nbformat_minor": 0
}