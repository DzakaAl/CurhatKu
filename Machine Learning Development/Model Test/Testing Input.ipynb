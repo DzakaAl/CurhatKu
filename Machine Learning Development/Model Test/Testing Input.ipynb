{
 "cells": [
  {
   "cell_type": "code",
   "execution_count": 1,
   "id": "2dfe19a5-4df6-464e-bb03-71b4c63a96d5",
   "metadata": {},
   "outputs": [
    {
     "name": "stderr",
     "output_type": "stream",
     "text": [
      "[nltk_data] Downloading package stopwords to\n",
      "[nltk_data]     C:\\Users\\adisu\\AppData\\Roaming\\nltk_data...\n",
      "[nltk_data]   Package stopwords is already up-to-date!\n"
     ]
    }
   ],
   "source": [
    "import tensorflow as tf\n",
    "import numpy as np\n",
    "import re\n",
    "from tensorflow.keras.preprocessing.sequence import pad_sequences\n",
    "import pickle\n",
    "from nltk.corpus import stopwords\n",
    "import nltk\n",
    "\n",
    "nltk.download('stopwords')\n",
    "\n",
    "stop_words = set(stopwords.words('indonesian'))\n",
    "\n",
    "model = tf.keras.models.load_model('emotion_prediction.keras')\n",
    "\n",
    "def preprocess_text(text):\n",
    "    text = re.sub(r'[^\\w\\s]', '', text)\n",
    "    text = text.lower()\n",
    "    text = ' '.join([word for word in text.split() if word not in stop_words])\n",
    "    return text.split()\n",
    "\n",
    "with open('tokenizer.pkl', 'rb') as f:\n",
    "    tokenizer = pickle.load(f)\n",
    "\n",
    "def predict_emotion(text):\n",
    "    # Preprocess the input text\n",
    "    processed_text = preprocess_text(text)\n",
    "\n",
    "    # Convert the text into a sequence of integers using the loaded tokenizer\n",
    "    sequence = tokenizer.texts_to_sequences([processed_text])\n",
    "    padded_sequence = pad_sequences(sequence, padding='post')\n",
    "\n",
    "    # Get the model's predictions\n",
    "    prediction = model.predict(padded_sequence)\n",
    "\n",
    "    # Get the indices of the top 2 emotions based on prediction probabilities\n",
    "    top_indices = prediction[0].argsort()[-2:][::-1]  # Get the 2 highest predictions (sorted descending)\n",
    "    top_probabilities = prediction[0][top_indices]  # Get the probabilities for those indices\n",
    "\n",
    "    # Normalize probabilities so they sum up to 100%\n",
    "    total_prob = top_probabilities.sum()\n",
    "    normalized_probabilities = (top_probabilities / total_prob) * 100  # Convert to percentage\n",
    "\n",
    "    # Define the possible emotions\n",
    "    emotions = ['Waspada', 'Marah', 'Jijik', 'Takut', 'Senang', 'Sedih', 'Terkejut', 'Percaya']\n",
    "\n",
    "    # Prepare the output with emotions and their corresponding probabilities\n",
    "    result = {\n",
    "        'emotion_1': emotions[top_indices[0]],\n",
    "        'probability_1': normalized_probabilities[0],\n",
    "        'emotion_2': emotions[top_indices[1]],\n",
    "        'probability_2': normalized_probabilities[1]\n",
    "    }\n",
    "\n",
    "    return result"
   ]
  },
  {
   "cell_type": "code",
   "execution_count": null,
   "id": "9a65cb2a-742b-4eb8-8fa9-ed348143d5b6",
   "metadata": {},
   "outputs": [
    {
     "name": "stdin",
     "output_type": "stream",
     "text": [
      "Masukkan teks untuk memprediksi emosi (atau ketik 'exit' untuk keluar):  Terkadang aku merasa sangat jijik dengan apa yang aku lihat atau dengar, terutama ketika orang-orang melakukan hal-hal yang tidak pantas atau menyakitkan. Rasanya seperti ada sesuatu yang kotor menempel pada diriku, dan aku tidak bisa menyingkirkannya begitu saja. Aku merasa mual hanya dengan memikirkan hal-hal yang terjadi, dan aku tidak bisa mengerti bagaimana orang bisa begitu tega atau tidak peduli. Setiap kali melihat atau mendengar hal itu, perasaan jijik itu datang begitu kuat, membuatku ingin menjauh dan melupakan semuanya\n"
     ]
    },
    {
     "name": "stdout",
     "output_type": "stream",
     "text": [
      "\u001b[1m1/1\u001b[0m \u001b[32m━━━━━━━━━━━━━━━━━━━━\u001b[0m\u001b[37m\u001b[0m \u001b[1m1s\u001b[0m 1s/step\n",
      "Prediksi emosi: {'emotion_1': 'Jijik', 'probability_1': 100.0, 'emotion_2': 'Percaya', 'probability_2': 0.0}\n"
     ]
    },
    {
     "name": "stdin",
     "output_type": "stream",
     "text": [
      "Masukkan teks untuk memprediksi emosi (atau ketik 'exit' untuk keluar):  Aku nggak nyangka, ternyata semuanya berubah begitu cepat!\n"
     ]
    },
    {
     "name": "stdout",
     "output_type": "stream",
     "text": [
      "\u001b[1m1/1\u001b[0m \u001b[32m━━━━━━━━━━━━━━━━━━━━\u001b[0m\u001b[37m\u001b[0m \u001b[1m1s\u001b[0m 517ms/step\n",
      "Prediksi emosi: {'emotion_1': 'Senang', 'probability_1': 54.33048, 'emotion_2': 'Terkejut', 'probability_2': 45.66952}\n"
     ]
    },
    {
     "name": "stdin",
     "output_type": "stream",
     "text": [
      "Masukkan teks untuk memprediksi emosi (atau ketik 'exit' untuk keluar):  aku kaget karena dia ga jauh\n"
     ]
    },
    {
     "name": "stdout",
     "output_type": "stream",
     "text": [
      "\u001b[1m1/1\u001b[0m \u001b[32m━━━━━━━━━━━━━━━━━━━━\u001b[0m\u001b[37m\u001b[0m \u001b[1m0s\u001b[0m 164ms/step\n",
      "Prediksi emosi: {'emotion_1': 'Terkejut', 'probability_1': 78.02594, 'emotion_2': 'Senang', 'probability_2': 21.974056}\n"
     ]
    },
    {
     "name": "stdin",
     "output_type": "stream",
     "text": [
      "Masukkan teks untuk memprediksi emosi (atau ketik 'exit' untuk keluar):  Setiap kali aku berjalan sendirian di jalan yang sepi, aku selalu merasa seperti ada yang mengawasi dari kejauhan, membuatku terus berhati-hati dan waspada terhadap segala hal di sekitar. Meskipun tidak ada yang jelas, ada perasaan cemas yang selalu mengganggu, seperti ada sesuatu yang bisa terjadi kapan saja. Aku selalu menoleh ke belakang, memastikan bahwa tidak ada yang mengikutiku, dan meskipun aku berusaha tenang, ada rasa tak nyaman yang terus mengganggu pikiranku. Perasaan ini membuatku merasa seolah-olah ada bahaya yang mengintai di setiap sudut.\n"
     ]
    },
    {
     "name": "stdout",
     "output_type": "stream",
     "text": [
      "\u001b[1m1/1\u001b[0m \u001b[32m━━━━━━━━━━━━━━━━━━━━\u001b[0m\u001b[37m\u001b[0m \u001b[1m0s\u001b[0m 144ms/step\n",
      "Prediksi emosi: {'emotion_1': 'Percaya', 'probability_1': 90.07711, 'emotion_2': 'Waspada', 'probability_2': 9.922894}\n"
     ]
    },
    {
     "name": "stdin",
     "output_type": "stream",
     "text": [
      "Masukkan teks untuk memprediksi emosi (atau ketik 'exit' untuk keluar):  Aku benar-benar percaya bahwa segala usaha yang aku lakukan sekarang akan membuahkan hasil di masa depan, meski jalan yang ditempuh terasa berat. Setiap langkah kecil yang aku ambil semakin menguatkan keyakinanku bahwa aku berada di jalur yang benar\n"
     ]
    },
    {
     "name": "stdout",
     "output_type": "stream",
     "text": [
      "\u001b[1m1/1\u001b[0m \u001b[32m━━━━━━━━━━━━━━━━━━━━\u001b[0m\u001b[37m\u001b[0m \u001b[1m0s\u001b[0m 171ms/step\n",
      "Prediksi emosi: {'emotion_1': 'Marah', 'probability_1': 62.783314, 'emotion_2': 'Sedih', 'probability_2': 37.21669}\n"
     ]
    },
    {
     "name": "stdin",
     "output_type": "stream",
     "text": [
      "Masukkan teks untuk memprediksi emosi (atau ketik 'exit' untuk keluar):  Tiba-tiba saja aku mendengar berita yang sangat mengejutkan, dan rasanya dunia seakan berhenti sejenak. Aku benar-benar tidak bisa mempercayainya, seperti semuanya terjadi begitu cepat dan tak terduga. Ada perasaan campur aduk antara kebingungan, ketakutan, dan tidak percaya membuatku terdiam beberapa saat, berusaha mencerna apa yang baru saja terjadi. Aku bahkan merasa seperti ada yang salah, apakah aku benar-benar mendengarnya dengan benar? Semua yang aku pikirkan berubah dalam sekejap, dan aku merasa seolah-olah aku kehilangan pijakan terkejut\n"
     ]
    },
    {
     "name": "stdout",
     "output_type": "stream",
     "text": [
      "\u001b[1m1/1\u001b[0m \u001b[32m━━━━━━━━━━━━━━━━━━━━\u001b[0m\u001b[37m\u001b[0m \u001b[1m0s\u001b[0m 150ms/step\n",
      "Prediksi emosi: {'emotion_1': 'Terkejut', 'probability_1': 99.96282, 'emotion_2': 'Sedih', 'probability_2': 0.037183713}\n"
     ]
    },
    {
     "name": "stdin",
     "output_type": "stream",
     "text": [
      "Masukkan teks untuk memprediksi emosi (atau ketik 'exit' untuk keluar):  Setiap kali aku berjalan sendirian di jalan yang sepi, aku selalu merasa seperti ada yang mengawasi dari kejauhan, membuatku terus berhati-hati dan waspada terhadap segala hal di sekitar. Meskipun tidak ada yang jelas, ada perasaan cemas yang selalu mengganggu, seperti ada sesuatu yang bisa terjadi kapan saja. Aku selalu menoleh ke belakang, memastikan bahwa tidak ada yang mengikutiku, dan meskipun aku berusaha tenang, ada rasa tak nyaman yang terus mengganggu pikiranku. Perasaan ini membuatku merasa seolah-olah ada bahaya yang mengintai di setiap sudut\n"
     ]
    },
    {
     "name": "stdout",
     "output_type": "stream",
     "text": [
      "\u001b[1m1/1\u001b[0m \u001b[32m━━━━━━━━━━━━━━━━━━━━\u001b[0m\u001b[37m\u001b[0m \u001b[1m0s\u001b[0m 17ms/step\n",
      "Prediksi emosi: {'emotion_1': 'Percaya', 'probability_1': 90.07711, 'emotion_2': 'Waspada', 'probability_2': 9.922894}\n"
     ]
    },
    {
     "name": "stdin",
     "output_type": "stream",
     "text": [
      "Masukkan teks untuk memprediksi emosi (atau ketik 'exit' untuk keluar):  Aku nggak tahu kenapa, tapi akhir-akhir ini aku merasa ada yang aneh. Rasanya seperti ada yang nggak beres, tapi aku nggak bisa nangkep apa itu. Semua terlihat biasa-biasa aja di luar, tapi entah kenapa ada perasaan nggak tenang yang terus menghantui. Aku jadi lebih hati-hati, tapi semakin hati-hati malah semakin terasa ada yang menyembunyikan sesuatu. Kadang, aku merasa seperti harus waspada terus, tapi aku nggak tahu apa yang harus aku waspadai. Semua terasa seperti teka-teki yang nggak lengkap, dan aku nggak suka perasaan seperti ini. Aku takut kalau aku salah ambil langkah, tapi di sisi lain, aku juga takut kalau aku diam saja dan sesuatu yang buruk malah terjadi.\"  Kalimat ini menggambarkan perasaan cemas dan kewaspadaan terhadap sesuatu yang belum sepenuhnya jelas atau terungkap\n"
     ]
    },
    {
     "name": "stdout",
     "output_type": "stream",
     "text": [
      "\u001b[1m1/1\u001b[0m \u001b[32m━━━━━━━━━━━━━━━━━━━━\u001b[0m\u001b[37m\u001b[0m \u001b[1m0s\u001b[0m 148ms/step\n",
      "Prediksi emosi: {'emotion_1': 'Takut', 'probability_1': 79.769226, 'emotion_2': 'Sedih', 'probability_2': 20.230772}\n"
     ]
    },
    {
     "name": "stdin",
     "output_type": "stream",
     "text": [
      "Masukkan teks untuk memprediksi emosi (atau ketik 'exit' untuk keluar):  Aku nggak tahu kenapa, tapi akhir-akhir ini aku merasa ada yang aneh. Rasanya seperti ada yang nggak beres, tapi aku nggak bisa nangkep apa itu. Semua terlihat biasa-biasa aja di luar, tapi entah kenapa ada perasaan nggak tenang yang terus menghantui. Aku jadi lebih hati-hati, tapi semakin hati-hati malah semakin terasa ada yang menyembunyikan sesuatu. Kadang, aku merasa seperti harus waspada terus, tapi aku nggak tahu apa yang harus aku waspadai. Semua terasa seperti teka-teki yang nggak lengkap, dan aku nggak suka perasaan seperti ini. Aku takut kalau aku salah ambil langkah, tapi di sisi lain, aku juga takut kalau aku diam saja dan sesuatu yang buruk malah terjadi.\n"
     ]
    },
    {
     "name": "stdout",
     "output_type": "stream",
     "text": [
      "\u001b[1m1/1\u001b[0m \u001b[32m━━━━━━━━━━━━━━━━━━━━\u001b[0m\u001b[37m\u001b[0m \u001b[1m0s\u001b[0m 141ms/step\n",
      "Prediksi emosi: {'emotion_1': 'Takut', 'probability_1': 66.097466, 'emotion_2': 'Sedih', 'probability_2': 33.902534}\n"
     ]
    },
    {
     "name": "stdin",
     "output_type": "stream",
     "text": [
      "Masukkan teks untuk memprediksi emosi (atau ketik 'exit' untuk keluar):  Aku merasa sangat waspada saat ini, karena ada sesuatu yang tidak biasa yang sedang terjadi di sekitarku, dan aku merasa harus tetap hati-hati agar tidak terjebak dalam situasi yang tidak diinginkan.\n"
     ]
    },
    {
     "name": "stdout",
     "output_type": "stream",
     "text": [
      "\u001b[1m1/1\u001b[0m \u001b[32m━━━━━━━━━━━━━━━━━━━━\u001b[0m\u001b[37m\u001b[0m \u001b[1m0s\u001b[0m 17ms/step\n",
      "Prediksi emosi: {'emotion_1': 'Percaya', 'probability_1': 50.205124, 'emotion_2': 'Waspada', 'probability_2': 49.794872}\n"
     ]
    },
    {
     "name": "stdin",
     "output_type": "stream",
     "text": [
      "Masukkan teks untuk memprediksi emosi (atau ketik 'exit' untuk keluar):  Aku sangat marah karena pertemuan tadi pagi benar-benar mengecewakan. Semua ide yang aku ajukan ditolak tanpa alasan yang jelas, dan rasanya seperti semua usaha yang aku lakukan sia-sia. Aku merasa dihargai rendah dan tidak dihormati\n"
     ]
    },
    {
     "name": "stdout",
     "output_type": "stream",
     "text": [
      "\u001b[1m1/1\u001b[0m \u001b[32m━━━━━━━━━━━━━━━━━━━━\u001b[0m\u001b[37m\u001b[0m \u001b[1m0s\u001b[0m 143ms/step\n",
      "Prediksi emosi: {'emotion_1': 'Marah', 'probability_1': 99.99881, 'emotion_2': 'Jijik', 'probability_2': 0.001192484}\n"
     ]
    },
    {
     "name": "stdin",
     "output_type": "stream",
     "text": [
      "Masukkan teks untuk memprediksi emosi (atau ketik 'exit' untuk keluar):  Rasa takut menghantui pikiranku setiap kali aku mendengar suara langkah kaki yang semakin dekat, padahal aku tahu aku sendirian di rumah ini. Tangan terasa dingin, dan hati berdegup kencang, tak bisa menenangkan diri. Takut sekali kalau sesuatu yang buruk sedang menungguku di kegelapan sana\n"
     ]
    },
    {
     "name": "stdout",
     "output_type": "stream",
     "text": [
      "\u001b[1m1/1\u001b[0m \u001b[32m━━━━━━━━━━━━━━━━━━━━\u001b[0m\u001b[37m\u001b[0m \u001b[1m0s\u001b[0m 16ms/step\n",
      "Prediksi emosi: {'emotion_1': 'Takut', 'probability_1': 99.998665, 'emotion_2': 'Sedih', 'probability_2': 0.0013331004}\n"
     ]
    },
    {
     "name": "stdin",
     "output_type": "stream",
     "text": [
      "Masukkan teks untuk memprediksi emosi (atau ketik 'exit' untuk keluar):  Aku merasa bahagia akhir-akhir ini, seperti semua beban yang pernah ada di pundakku akhirnya hilang. Setiap hari terasa penuh dengan kegembiraan kecil, dari obrolan seru dengan teman-teman hingga momen sederhana yang tiba-tiba membuatku tersenyum. Rasanya semua hal mulai berjalan dengan lancar, dan aku merasa lebih percaya diri untuk menghadapi apa pun yang datang. Aku bisa melihat sisi positif dari setiap situasi, bahkan saat hal-hal tidak berjalan sesuai rencana. Ada semangat baru yang mengalir dalam diriku, dan aku merasa siap untuk menjalani setiap hari dengan penuh semangat.\n"
     ]
    },
    {
     "name": "stdout",
     "output_type": "stream",
     "text": [
      "\u001b[1m1/1\u001b[0m \u001b[32m━━━━━━━━━━━━━━━━━━━━\u001b[0m\u001b[37m\u001b[0m \u001b[1m0s\u001b[0m 152ms/step\n",
      "Prediksi emosi: {'emotion_1': 'Senang', 'probability_1': 99.99998, 'emotion_2': 'Waspada', 'probability_2': 2.4215296e-05}\n"
     ]
    },
    {
     "name": "stdin",
     "output_type": "stream",
     "text": [
      "Masukkan teks untuk memprediksi emosi (atau ketik 'exit' untuk keluar):  Akhir-akhir ini aku merasa seolah dunia ini semakin menjauh dariku. Setiap kali aku mencoba untuk tersenyum atau berbicara dengan orang lain, ada perasaan kosong yang terus menghantuiku, seperti tidak ada yang benar-benar mengerti apa yang aku rasakan. Rasanya semuanya begitu suram, dan aku tidak tahu lagi bagaimana cara untuk bangkit dari perasaan ini. Ada saat-saat ketika aku merasa sangat lelah, tapi aku tidak bisa berbicara tentang itu pada siapa pun, karena aku takut mereka akan menganggapku lemah atau terlalu banyak mengeluh. Semua perasaan ini terus menumpuk, dan aku merasa semakin terasing dari dunia sekitar\n"
     ]
    },
    {
     "name": "stdout",
     "output_type": "stream",
     "text": [
      "\u001b[1m1/1\u001b[0m \u001b[32m━━━━━━━━━━━━━━━━━━━━\u001b[0m\u001b[37m\u001b[0m \u001b[1m0s\u001b[0m 16ms/step\n",
      "Prediksi emosi: {'emotion_1': 'Sedih', 'probability_1': 76.95835, 'emotion_2': 'Takut', 'probability_2': 23.041643}\n"
     ]
    },
    {
     "name": "stdin",
     "output_type": "stream",
     "text": [
      "Masukkan teks untuk memprediksi emosi (atau ketik 'exit' untuk keluar):  Aku percaya bahwa meskipun perjalanan hidupku penuh dengan tantangan, suatu hari nanti aku akan menemukan jalan yang benar. Mungkin saat ini aku merasa bingung dan ragu, tapi aku yakin setiap langkah yang kuambil akan membawa aku lebih dekat pada impian.\n"
     ]
    },
    {
     "name": "stdout",
     "output_type": "stream",
     "text": [
      "\u001b[1m1/1\u001b[0m \u001b[32m━━━━━━━━━━━━━━━━━━━━\u001b[0m\u001b[37m\u001b[0m \u001b[1m0s\u001b[0m 199ms/step\n",
      "Prediksi emosi: {'emotion_1': 'Percaya', 'probability_1': 99.60525, 'emotion_2': 'Waspada', 'probability_2': 0.39475644}\n"
     ]
    },
    {
     "name": "stdin",
     "output_type": "stream",
     "text": [
      "Masukkan teks untuk memprediksi emosi (atau ketik 'exit' untuk keluar):  Aku merasa sangat waspada saat ini, karena ada sesuatu yang tidak biasa yang sedang terjadi di sekitarku, dan aku merasa harus tetap hati-hati agar tidak terjebak dalam situasi yang tidak diinginkan.\n"
     ]
    },
    {
     "name": "stdout",
     "output_type": "stream",
     "text": [
      "\u001b[1m1/1\u001b[0m \u001b[32m━━━━━━━━━━━━━━━━━━━━\u001b[0m\u001b[37m\u001b[0m \u001b[1m0s\u001b[0m 18ms/step\n",
      "Prediksi emosi: {'emotion_1': 'Percaya', 'probability_1': 50.205124, 'emotion_2': 'Waspada', 'probability_2': 49.794872}\n"
     ]
    },
    {
     "name": "stdin",
     "output_type": "stream",
     "text": [
      "Masukkan teks untuk memprediksi emosi (atau ketik 'exit' untuk keluar):  Aku merasa sangat waspada saat ini, karena ada sesuatu yang tidak biasa yang sedang terjadi di sekitarku, dan aku merasa harus tetap hati-hati agar tidak terjebak dalam situasi yang tidak diinginkan\n"
     ]
    },
    {
     "name": "stdout",
     "output_type": "stream",
     "text": [
      "\u001b[1m1/1\u001b[0m \u001b[32m━━━━━━━━━━━━━━━━━━━━\u001b[0m\u001b[37m\u001b[0m \u001b[1m0s\u001b[0m 14ms/step\n",
      "Prediksi emosi: {'emotion_1': 'Percaya', 'probability_1': 50.205124, 'emotion_2': 'Waspada', 'probability_2': 49.794872}\n"
     ]
    },
    {
     "name": "stdin",
     "output_type": "stream",
     "text": [
      "Masukkan teks untuk memprediksi emosi (atau ketik 'exit' untuk keluar):  Aku nggak sabar nunggu besok, tapi di sisi lain aku juga merasa waspada. Ada yang nggak beres, dan aku takut kalau sesuatu nggak berjalan sesuai rencana\n"
     ]
    },
    {
     "name": "stdout",
     "output_type": "stream",
     "text": [
      "\u001b[1m1/1\u001b[0m \u001b[32m━━━━━━━━━━━━━━━━━━━━\u001b[0m\u001b[37m\u001b[0m \u001b[1m0s\u001b[0m 19ms/step\n",
      "Prediksi emosi: {'emotion_1': 'Waspada', 'probability_1': 100.0, 'emotion_2': 'Takut', 'probability_2': 3.4596857e-07}\n"
     ]
    }
   ],
   "source": [
    "while True:\n",
    "    user_input = input(\"Masukkan teks untuk memprediksi emosi (atau ketik 'exit' untuk keluar): \")\n",
    "\n",
    "    if user_input.lower() == 'exit':\n",
    "        print(\"Terima kasih! Keluar dari aplikasi.\")\n",
    "        break\n",
    "\n",
    "    emotion = predict_emotion(user_input)\n",
    "    print(f'Prediksi emosi: {emotion}')"
   ]
  },
  {
   "cell_type": "code",
   "execution_count": null,
   "id": "d72da8ee-f1f0-407c-9447-31e3add46760",
   "metadata": {},
   "outputs": [],
   "source": []
  }
 ],
 "metadata": {
  "kernelspec": {
   "display_name": "Python 3 (ipykernel)",
   "language": "python",
   "name": "python3"
  },
  "language_info": {
   "codemirror_mode": {
    "name": "ipython",
    "version": 3
   },
   "file_extension": ".py",
   "mimetype": "text/x-python",
   "name": "python",
   "nbconvert_exporter": "python",
   "pygments_lexer": "ipython3",
   "version": "3.11.7"
  }
 },
 "nbformat": 4,
 "nbformat_minor": 5
}
