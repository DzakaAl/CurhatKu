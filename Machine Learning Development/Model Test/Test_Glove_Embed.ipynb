{
  "cells": [
    {
      "cell_type": "code",
      "execution_count": 9,
      "metadata": {
        "id": "BPh9emQj34NS"
      },
      "outputs": [],
      "source": [
        "import tensorflow as tf\n",
        "import numpy as np\n",
        "import pandas as pd\n",
        "Tokenizer = tf.keras.preprocessing.text.Tokenizer\n",
        "pad_sequences = tf.keras.preprocessing.sequence.pad_sequences\n",
        "layers, models, optimizers = tf.keras.layers, tf.keras.models, tf.keras.optimizers\n",
        "EarlyStopping = tf.keras.callbacks.EarlyStopping\n",
        "import matplotlib.pyplot as plt"
      ]
    },
    {
      "cell_type": "code",
      "source": [
        "!wget http://nlp.stanford.edu/data/glove.6B.zip\n",
        "!unzip glove.6B.zip"
      ],
      "metadata": {
        "colab": {
          "base_uri": "https://localhost:8080/"
        },
        "id": "69rLJibC47Wl",
        "outputId": "2163808c-babf-4434-c52d-f1aa72240031"
      },
      "execution_count": 10,
      "outputs": [
        {
          "output_type": "stream",
          "name": "stdout",
          "text": [
            "--2024-11-26 10:07:46--  http://nlp.stanford.edu/data/glove.6B.zip\n",
            "Resolving nlp.stanford.edu (nlp.stanford.edu)... 171.64.67.140\n",
            "Connecting to nlp.stanford.edu (nlp.stanford.edu)|171.64.67.140|:80... connected.\n",
            "HTTP request sent, awaiting response... 302 Found\n",
            "Location: https://nlp.stanford.edu/data/glove.6B.zip [following]\n",
            "--2024-11-26 10:07:46--  https://nlp.stanford.edu/data/glove.6B.zip\n",
            "Connecting to nlp.stanford.edu (nlp.stanford.edu)|171.64.67.140|:443... connected.\n",
            "HTTP request sent, awaiting response... 301 Moved Permanently\n",
            "Location: https://downloads.cs.stanford.edu/nlp/data/glove.6B.zip [following]\n",
            "--2024-11-26 10:07:47--  https://downloads.cs.stanford.edu/nlp/data/glove.6B.zip\n",
            "Resolving downloads.cs.stanford.edu (downloads.cs.stanford.edu)... 171.64.64.22\n",
            "Connecting to downloads.cs.stanford.edu (downloads.cs.stanford.edu)|171.64.64.22|:443... connected.\n",
            "HTTP request sent, awaiting response... 200 OK\n",
            "Length: 862182613 (822M) [application/zip]\n",
            "Saving to: ‘glove.6B.zip.1’\n",
            "\n",
            "glove.6B.zip.1      100%[===================>] 822.24M  5.04MB/s    in 2m 41s  \n",
            "\n",
            "2024-11-26 10:10:28 (5.12 MB/s) - ‘glove.6B.zip.1’ saved [862182613/862182613]\n",
            "\n",
            "Archive:  glove.6B.zip\n",
            "replace glove.6B.50d.txt? [y]es, [n]o, [A]ll, [N]one, [r]ename: y\n",
            "  inflating: glove.6B.50d.txt        \n",
            "replace glove.6B.100d.txt? [y]es, [n]o, [A]ll, [N]one, [r]ename: y\n",
            "  inflating: glove.6B.100d.txt       \n",
            "replace glove.6B.200d.txt? [y]es, [n]o, [A]ll, [N]one, [r]ename: A\n",
            "  inflating: glove.6B.200d.txt       \n",
            "  inflating: glove.6B.300d.txt       \n"
          ]
        }
      ]
    },
    {
      "cell_type": "code",
      "execution_count": 12,
      "metadata": {
        "id": "6uU6TFNr34NU"
      },
      "outputs": [],
      "source": [
        "vocab_size = 1000\n",
        "embedding_dim = 16\n",
        "max_length = 120\n",
        "trunc_type='post'\n",
        "padding_type='post'\n",
        "oov_tok = \"<OOV>\"\n",
        "training_portion = .8"
      ]
    },
    {
      "cell_type": "code",
      "execution_count": 14,
      "metadata": {
        "id": "StVKtf7C34NU"
      },
      "outputs": [],
      "source": [
        "data = pd.read_csv('data (1).csv')\n",
        "sentences = data['text'].str.lower().tolist()\n",
        "labels = data['label'].tolist()\n",
        "stopword = [\n",
        "    \"yang\", \"dan\", \"di\", \"ke\", \"dari\", \"untuk\", \"dengan\", \"pada\", \"adalah\",\n",
        "    \"ini\", \"itu\", \"saya\", \"kita\", \"anda\", \"akan\", \"telah\", \"sebagai\", \"atau\",\n",
        "    \"jadi\", \"karena\", \"tidak\", \"dalam\", \"lebih\", \"lagi\", \"hanya\", \"sudah\", \"juga\"\n",
        "]\n",
        "\n"
      ]
    },
    {
      "cell_type": "code",
      "execution_count": 15,
      "metadata": {
        "id": "wdgkZDIl34NU"
      },
      "outputs": [],
      "source": [
        "processed_sentences = []\n",
        "for sentence in sentences:\n",
        "    for word in stopword:\n",
        "        sentence = sentence.replace(f\" {word} \", \" \")  # Remove stopwords\n",
        "    processed_sentences.append(sentence.strip())"
      ]
    },
    {
      "cell_type": "code",
      "execution_count": 16,
      "metadata": {
        "id": "kSTeBnKZ34NV"
      },
      "outputs": [],
      "source": [
        "train_size = int(len(processed_sentences) * 0.8)\n",
        "\n",
        "train_sentences = processed_sentences[:train_size]\n",
        "train_labels = labels[:train_size]\n",
        "\n",
        "validation_sentences =processed_sentences[train_size:]\n",
        "validation_labels = labels[train_size:]"
      ]
    },
    {
      "cell_type": "code",
      "execution_count": 17,
      "metadata": {
        "id": "pI6fQ9xD34NV"
      },
      "outputs": [],
      "source": [
        "tokenizer = Tokenizer(num_words = vocab_size, oov_token=oov_tok)\n",
        "tokenizer.fit_on_texts(train_sentences)\n",
        "word_index = tokenizer.word_index\n",
        "\n",
        "train_sequences = tokenizer.texts_to_sequences(train_sentences)\n",
        "train_padded = pad_sequences(train_sequences, padding=padding_type, maxlen=max_length)\n",
        "\n",
        "validation_sequences = tokenizer.texts_to_sequences(validation_sentences)\n",
        "validation_padded = pad_sequences(validation_sequences, padding=padding_type, maxlen=max_length)"
      ]
    },
    {
      "cell_type": "code",
      "execution_count": 18,
      "metadata": {
        "id": "IcSPDsWw34NV"
      },
      "outputs": [],
      "source": [
        "training_label_seq = np.array(train_labels)\n",
        "validation_label_seq = np.array(validation_labels)"
      ]
    },
    {
      "cell_type": "code",
      "source": [
        "glove_file = 'glove.6B.100d.txt'\n",
        "embeddings_index = {}\n",
        "with open(glove_file, 'r', encoding='utf-8') as f:\n",
        "  for line in f:\n",
        "    values = line.split()\n",
        "    word = values[0]\n",
        "    coefs = np.asarray(values[1:], dtype='float32')\n",
        "    embeddings_index[word] = coefs"
      ],
      "metadata": {
        "id": "Mu8ppExd4HXV"
      },
      "execution_count": 21,
      "outputs": []
    },
    {
      "cell_type": "code",
      "source": [
        "embedding_dim = 100\n",
        "\n",
        "embedding_matrix = np.zeros((vocab_size, embedding_dim))\n",
        "for word, i in word_index.items():\n",
        "    if i < vocab_size:\n",
        "        embedding_vector = embeddings_index.get(word)\n",
        "        if embedding_vector is not None:\n",
        "            embedding_matrix[i] = embedding_vector"
      ],
      "metadata": {
        "id": "OTLZZpsc4Ycz"
      },
      "execution_count": 23,
      "outputs": []
    },
    {
      "cell_type": "code",
      "execution_count": 24,
      "metadata": {
        "id": "c5ByWotc34NW"
      },
      "outputs": [],
      "source": [
        "model = models.Sequential([\n",
        "    layers.Embedding(vocab_size, embedding_dim),\n",
        "    layers.Bidirectional(tf.keras.layers.LSTM(128, return_sequences=True)),\n",
        "    layers.Bidirectional(tf.keras.layers.LSTM(64)),\n",
        "    layers.Dense(64, activation='relu'),\n",
        "    layers.Dense(32, activation='relu'),\n",
        "    layers.Dense(8, activation='softmax')\n",
        "    ])"
      ]
    },
    {
      "cell_type": "code",
      "execution_count": 25,
      "metadata": {
        "id": "7Ve_1jBb34NW"
      },
      "outputs": [],
      "source": [
        "model.compile(loss=tf.keras.losses.SparseCategoricalCrossentropy(),\n",
        "                optimizer=optimizers.Adam(),\n",
        "                metrics=['accuracy'])"
      ]
    },
    {
      "cell_type": "code",
      "execution_count": 26,
      "metadata": {
        "id": "cIkbXIRS34NW"
      },
      "outputs": [],
      "source": [
        "early_stop = EarlyStopping(monitor='val_accuracy',\n",
        "                            patience=2,\n",
        "                            verbose=1,\n",
        "                            restore_best_weights=True,\n",
        "                            min_delta=0.01,\n",
        "                            mode='max',  # 'max' will stop when accuracy reaches a maximum\n",
        "                            baseline=0.94)"
      ]
    },
    {
      "cell_type": "code",
      "execution_count": 27,
      "metadata": {
        "colab": {
          "base_uri": "https://localhost:8080/"
        },
        "id": "pFg-uuCi34NW",
        "outputId": "52543a98-63d5-4061-fc35-d9a437feace9"
      },
      "outputs": [
        {
          "output_type": "stream",
          "name": "stdout",
          "text": [
            "Epoch 1/10\n",
            "\u001b[1m100/100\u001b[0m \u001b[32m━━━━━━━━━━━━━━━━━━━━\u001b[0m\u001b[37m\u001b[0m \u001b[1m103s\u001b[0m 948ms/step - accuracy: 0.3085 - loss: 1.7599 - val_accuracy: 0.8125 - val_loss: 0.5376\n",
            "Epoch 2/10\n",
            "\u001b[1m100/100\u001b[0m \u001b[32m━━━━━━━━━━━━━━━━━━━━\u001b[0m\u001b[37m\u001b[0m \u001b[1m134s\u001b[0m 867ms/step - accuracy: 0.8838 - loss: 0.3769 - val_accuracy: 0.9413 - val_loss: 0.2703\n",
            "Epoch 3/10\n",
            "\u001b[1m100/100\u001b[0m \u001b[32m━━━━━━━━━━━━━━━━━━━━\u001b[0m\u001b[37m\u001b[0m \u001b[1m101s\u001b[0m 1s/step - accuracy: 0.9628 - loss: 0.1380 - val_accuracy: 0.9337 - val_loss: 0.2676\n",
            "Epoch 3: early stopping\n",
            "Restoring model weights from the end of the best epoch: 2.\n"
          ]
        }
      ],
      "source": [
        "history = model.fit(train_padded, training_label_seq,\n",
        "                    epochs=10,\n",
        "                    validation_data=(validation_padded, validation_label_seq),\n",
        "                    callbacks=[early_stop])"
      ]
    },
    {
      "cell_type": "code",
      "execution_count": 28,
      "metadata": {
        "colab": {
          "base_uri": "https://localhost:8080/",
          "height": 449
        },
        "id": "fF9OC6KQ34NX",
        "outputId": "ee2b3aad-4936-4942-a6ad-4b4293248030"
      },
      "outputs": [
        {
          "output_type": "display_data",
          "data": {
            "text/plain": [
              "<Figure size 640x480 with 1 Axes>"
            ],
            "image/png": "[encoded data removed]"
          },
          "metadata": {}
        }
      ],
      "source": [
        "plt.plot(history.history['accuracy'], label='Training Accuracy')\n",
        "plt.plot(history.history['val_accuracy'], label='Validation Accuracy')\n",
        "plt.xlabel('Epoch')\n",
        "plt.ylabel('Accuracy')\n",
        "plt.legend()\n",
        "plt.show()"
      ]
    },
    {
      "cell_type": "code",
      "source": [
        "def predict_sentiment(text, tokenizer, model, max_length, padding_type, trunc_type):\n",
        "\n",
        "    # Preprocess the text\n",
        "    sequence = tokenizer.texts_to_sequences([text])\n",
        "    padded_sequence = tf.keras.preprocessing.sequence.pad_sequences(sequence, maxlen=max_length, padding=padding_type, truncating=trunc_type)\n",
        "\n",
        "    prediction = model.predict(padded_sequence)\n",
        "    predicted_label_index = np.argmax(prediction[0]) # Get the index of the highest probability\n",
        "    sentiment_labels = ['anticipation','anger', 'disgust', 'fear', 'joy', 'sadness', 'surprise', 'trust']\n",
        "    predicted_sentiment = sentiment_labels[predicted_label_index]\n",
        "\n",
        "    return predicted_sentiment"
      ],
      "metadata": {
        "id": "xzdp8SjxA_61"
      },
      "execution_count": 35,
      "outputs": []
    },
    {
      "cell_type": "code",
      "execution_count": 37,
      "metadata": {
        "colab": {
          "base_uri": "https://localhost:8080/"
        },
        "id": "3RPC7Cpe34NX",
        "outputId": "c46d0cb7-e901-4a8a-c902-7e2491767dc1"
      },
      "outputs": [
        {
          "output_type": "stream",
          "name": "stdout",
          "text": [
            "\u001b[1m1/1\u001b[0m \u001b[32m━━━━━━━━━━━━━━━━━━━━\u001b[0m\u001b[37m\u001b[0m \u001b[1m0s\u001b[0m 70ms/step\n",
            "Predicted sentiment for 'kemarin aku terkejut saat melihat gunung berapi meledak': surprise\n"
          ]
        }
      ],
      "source": [
        "new_text = \"kemarin aku terkejut saat melihat gunung berapi meledak\"\n",
        "\n",
        "predicted_sentiment = predict_sentiment(new_text, tokenizer, model, max_length, padding_type, trunc_type)\n",
        "\n",
        "print(f\"Predicted sentiment for '{new_text}': {predicted_sentiment}\")"
      ]
    },
    {
      "cell_type": "code",
      "execution_count": null,
      "metadata": {
        "id": "vzOqgEJq34NX"
      },
      "outputs": [],
      "source": []
    }
  ],
  "metadata": {
    "kernelspec": {
      "display_name": "Myne",
      "language": "python",
      "name": "python3"
    },
    "language_info": {
      "codemirror_mode": {
        "name": "ipython",
        "version": 3
      },
      "file_extension": ".py",
      "mimetype": "text/x-python",
      "name": "python",
      "nbconvert_exporter": "python",
      "pygments_lexer": "ipython3",
      "version": "3.11.9"
    },
    "colab": {
      "provenance": [],
      "toc_visible": true
    }
  },
  "nbformat": 4,
  "nbformat_minor": 0
}